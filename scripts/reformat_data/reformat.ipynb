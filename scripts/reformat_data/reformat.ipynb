{
 "cells": [
  {
   "cell_type": "code",
   "execution_count": 1,
   "metadata": {},
   "outputs": [],
   "source": [
    "import json\n",
    "\n",
    "path = \"answer_score.gpt-4-0314.999.txt\"\n",
    "results = []\n",
    "with open(path, \"r\") as f:\n",
    "    for line in f:\n",
    "        obj = json.loads(line)\n",
    "        instruction_score = obj[\"instruction_score\"]\n",
    "        answer_score = obj[\"answer_score\"]\n",
    "        if instruction_score < 5 or answer_score < 5:\n",
    "            continue\n",
    "        insturction = obj[\"instruction\"]\n",
    "        answer = obj[\"answer\"]\n",
    "        messages = [\n",
    "            {\"role\": \"user\", \"content\": insturction},\n",
    "            {\"role\": \"assistant\", \"content\": answer},\n",
    "        ]\n",
    "        results.append({\n",
    "            \"dataset\": \"bioinstruct_v1\",\n",
    "            \"id\": f\"bioinstruct_v1_{len(results)}\",\n",
    "            \"messages\": messages,\n",
    "        })"
   ]
  },
  {
   "cell_type": "code",
   "execution_count": 2,
   "metadata": {},
   "outputs": [
    {
     "data": {
      "text/plain": [
       "526"
      ]
     },
     "execution_count": 2,
     "metadata": {},
     "output_type": "execute_result"
    }
   ],
   "source": [
    "len(results)"
   ]
  },
  {
   "cell_type": "code",
   "execution_count": 3,
   "metadata": {},
   "outputs": [],
   "source": [
    "output_path = \"bioinstruct_v1.jsonl\"\n",
    "with open(output_path, \"w\") as f:\n",
    "    for obj in results:\n",
    "        f.write(json.dumps(obj) + \"\\n\")"
   ]
  },
  {
   "cell_type": "code",
   "execution_count": null,
   "metadata": {},
   "outputs": [],
   "source": []
  }
 ],
 "metadata": {
  "kernelspec": {
   "display_name": "ft",
   "language": "python",
   "name": "python3"
  },
  "language_info": {
   "codemirror_mode": {
    "name": "ipython",
    "version": 3
   },
   "file_extension": ".py",
   "mimetype": "text/x-python",
   "name": "python",
   "nbconvert_exporter": "python",
   "pygments_lexer": "ipython3",
   "version": "3.10.12"
  }
 },
 "nbformat": 4,
 "nbformat_minor": 2
}
